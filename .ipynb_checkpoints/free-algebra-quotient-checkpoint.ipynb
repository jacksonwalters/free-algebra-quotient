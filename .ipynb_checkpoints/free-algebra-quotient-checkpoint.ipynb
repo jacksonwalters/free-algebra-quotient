{
 "cells": [
  {
   "cell_type": "code",
   "execution_count": 19,
   "id": "4f25b4bf",
   "metadata": {},
   "outputs": [],
   "source": [
    "#REFS:\n",
    "#Short presentations for alternating and symmetric groups, J.N. Bray, M.D.E. Conder, C.R. Leedham-Green, and E.A. O’Brien\n",
    "#https://en.wikipedia.org/wiki/Chinese_remainder_theorem#Generalization_to_arbitrary_rings"
   ]
  },
  {
   "cell_type": "code",
   "execution_count": 20,
   "id": "d7d0939f-4003-4596-87b0-68e044227fa3",
   "metadata": {},
   "outputs": [],
   "source": [
    "#we can represent the group algebra of a cyclic group as a polynomial ring quotient an ideal \n",
    "#F[C_N] = F[x]/(x^N-1)\n",
    "#and factor x^N-1, and use the Chinese remainder theorem and Bezout's identity for the isomorphism.\n",
    "#Similarly, we can write down a presentation of S_N, <\\sigma, \\tau | \\sigma^n = 1, \\tau^2 = 1, ...>,\n",
    "#with just two generators and then the group algebra is a quotient of a free algebra on two generators,\n",
    "#F[S_N] = F<x,y>/ (x^2 = y^n = (xy)^{n−1} = 1, (xy^{−1}xy)^3 = 1, (xy^{−j}xy^j)^2 = 1 for 2 \\le j \\le ⌊n/2⌋)\n",
    "#We still have the Chinese remainder theorem, and there algorthims to factor non-commutative polynomials. \n",
    "#It turns out this is equivalent to using central orthogonal idempotents.\n",
    "#Question: Do we gain anything with this approach?"
   ]
  },
  {
   "cell_type": "code",
   "execution_count": 169,
   "id": "40162a26",
   "metadata": {},
   "outputs": [
    {
     "data": {
      "text/plain": [
       "True"
      ]
     },
     "execution_count": 169,
     "metadata": {},
     "output_type": "execute_result"
    }
   ],
   "source": [
    "#a short presentation for S_n\n",
    "#{x,y|x^2 = y^n = (xy)^{n−1} = 1, (xy^{−1}xy)^3 = 1, (xy^{−j}xy^j)^2 = 1 for 2 \\le j \\le ⌊n/2⌋}\n",
    "n=4\n",
    "F.<a,b> = FreeGroup()\n",
    "G = F / ([a^2, b^n, (a*b)^(n-1), (a*b^(-1)*a*b)^3] + [(a*b^(-j)*a*b^j)^2 for j in range(2,floor(n/2)+1)])\n",
    "G.is_isomorphic(SymmetricGroup(n))"
   ]
  },
  {
   "cell_type": "code",
   "execution_count": 170,
   "id": "7bae50ed-3937-4790-9acb-365d26905765",
   "metadata": {},
   "outputs": [
    {
     "data": {
      "text/plain": [
       "((1,2,3,4), (1,2))"
      ]
     },
     "execution_count": 170,
     "metadata": {},
     "output_type": "execute_result"
    }
   ],
   "source": [
    "#however, the syemmtric group itself has the abilitity to solve the word problem\n",
    "#so we just need an isomorphism G <--> S_n \n",
    "sym_n = SymmetricGroup(n); sym_n.gens()"
   ]
  },
  {
   "cell_type": "code",
   "execution_count": 171,
   "id": "f2587aac-a266-4978-bd87-9b1f12e05407",
   "metadata": {},
   "outputs": [
    {
     "data": {
      "text/plain": [
       "<class 'sage.groups.libgap_morphism.GroupHomset_libgap_with_category'>"
      ]
     },
     "execution_count": 171,
     "metadata": {},
     "output_type": "execute_result"
    }
   ],
   "source": [
    "type(Hom(G,sym_n))"
   ]
  },
  {
   "cell_type": "code",
   "execution_count": 172,
   "id": "87ba7459-4dff-4bc4-ab9c-c1cca2afa91e",
   "metadata": {},
   "outputs": [
    {
     "name": "stdout",
     "output_type": "stream",
     "text": [
      "'FinitelyPresentedGroup_with_category.element_class' object has no attribute 'word_problem'\n"
     ]
    }
   ],
   "source": [
    "#the group given by generators and relations does not have a built-in\n",
    "g = G.an_element()\n",
    "try:\n",
    "    g.word_problem(G.gens())\n",
    "except AttributeError as error:\n",
    "    print(error)"
   ]
  },
  {
   "cell_type": "code",
   "execution_count": 173,
   "id": "8b0f7bbc-3081-4453-b1c0-5f48b7feaffa",
   "metadata": {},
   "outputs": [
    {
     "name": "stdout",
     "output_type": "stream",
     "text": [
      "x1*x2\n",
      "[['(1,2,3,4)', 1], ['(1,2)', 1]]\n"
     ]
    },
    {
     "data": {
      "text/plain": [
       "('x1*x2', '(1,2,3,4)*(1,2)')"
      ]
     },
     "execution_count": 173,
     "metadata": {},
     "output_type": "execute_result"
    }
   ],
   "source": [
    "g = sym_n.an_element()\n",
    "g.word_problem(sym_n.gens())"
   ]
  },
  {
   "cell_type": "code",
   "execution_count": 174,
   "id": "ad6275f0",
   "metadata": {},
   "outputs": [
    {
     "name": "stdout",
     "output_type": "stream",
     "text": [
      "not enough values to unpack (expected 2, got 0)\n"
     ]
    }
   ],
   "source": [
    "#g_algebra is not working properly with relations\n",
    "A.<x,y> = FreeAlgebra(GF(3), 2)\n",
    "try:\n",
    "    P.<x,y> = A.g_algebra(relations={A(1):x^2},order = 'lex', check=False)\n",
    "except ValueError as error:\n",
    "    print(error)"
   ]
  },
  {
   "cell_type": "code",
   "execution_count": 27,
   "id": "338e45ac-1c2e-401b-b51b-e18970a84395",
   "metadata": {},
   "outputs": [],
   "source": [
    "#Let I = I_1 \\cap \\ldots \\cap I_k be the intersection of pairwise coprime two-sided ideals, \n",
    "#i.e. there exists i+j = 1 in each distinct pair I_i, I_j.\n",
    "#Let phi: F<x,y>/I --> F<x,y>/I_1 \\times \\ldots \\times F<x,y>/I_k\n",
    "#Let f_i = (0,0, \\ldots , 1 , \\ldots 0, 0), a 1 in th i-th component and 0's elsewhere.\n",
    "#The e_i = \\phi^-1(f_i). I_i = F<x,y>(1-e_i).\n",
    "#In this case we have the idempotents e_i = e_i(x,y), so we can construct the ideals I_i = F<x,y>(1-e_i). \n",
    "#So really we just need to compute 1-e_i(x,y), so convert the group elements their words in x, y."
   ]
  },
  {
   "cell_type": "code",
   "execution_count": 190,
   "id": "192f8396-a92b-44f0-a32b-890f1de87a94",
   "metadata": {},
   "outputs": [
    {
     "data": {
      "text/plain": [
       "[1, 2, 3, 4] + [2, 1, 4, 3] + [3, 4, 1, 2] + [4, 3, 2, 1]"
      ]
     },
     "execution_count": 190,
     "metadata": {},
     "output_type": "execute_result"
    }
   ],
   "source": [
    "#we can easily and quickly compute idempotents for the symmetric group algebra\n",
    "p=3;\n",
    "SGA_GFp_n = SymmetricGroupAlgebra(GF(p),n)\n",
    "idems = SGA_GFp_n.central_orthogonal_idempotents()\n",
    "#for each group element in idempotents, find expression as a word in x,y\n",
    "idems[2]"
   ]
  },
  {
   "cell_type": "code",
   "execution_count": 178,
   "id": "a75d569f-f883-428c-8d61-897380644e64",
   "metadata": {},
   "outputs": [
    {
     "data": {
      "text/plain": [
       "Algebra of Finitely presented group < a, b | a^2, b^4, (a*b)^3, (a*b^-1*a*b)^3, (a*b^-2*a*b^2)^2 > over Finite Field of size 3"
      ]
     },
     "execution_count": 178,
     "metadata": {},
     "output_type": "execute_result"
    }
   ],
   "source": [
    "#can use free group algebra corresponding to g\n",
    "R = GF(3)\n",
    "FGA = GroupAlgebra(G, R); FGA"
   ]
  },
  {
   "cell_type": "code",
   "execution_count": 212,
   "id": "b89ca6ee-48d9-4999-b81b-9f4c868e164a",
   "metadata": {},
   "outputs": [],
   "source": [
    "#map from symmetric group algebra to quotient of free group algebra\n",
    "#we must use the standard symmetric group in order to solve the word problem\n",
    "#TO-DO: need to map solved word problem back to G\n",
    "def SGA_to_FGA_quotient(v):\n",
    "    #solve word problem for each basis element\n",
    "    FGA_convert = 0\n",
    "    for pair in list(v):\n",
    "        coeff = FGA(pair[1])\n",
    "        sigma = SymmetricGroup(n)(pair[0])\n",
    "        gens = SymmetricGroup(n).gens()\n",
    "        word_gens, word_sym = sigma.word_problem(gens,display=False)\n",
    "        #handle identity case separately\n",
    "        if word_gens == \"<identity ...>\":\n",
    "            replace_with_free_group_gens = \"1\"\n",
    "        else:\n",
    "            #map word in generators to free group quotient\n",
    "            replace_with_free_group_gens = word_gens.replace(\"x1\",\"a\").replace(\"x2\",\"b\")\n",
    "        word_to_free_group_quotient = sage_eval(replace_with_free_group_gens,locals={'a':G.gens()[0],'b':G.gens()[1]})\n",
    "        FGA_convert += coeff*FGA(word_to_free_group_quotient)\n",
    "    return FGA_convert"
   ]
  },
  {
   "cell_type": "code",
   "execution_count": 180,
   "id": "6a7bce8f-b5b5-4cb3-bc18-73135010fe71",
   "metadata": {},
   "outputs": [
    {
     "data": {
      "text/plain": [
       "1 + 2*a^-2 + 2*(b^-1*a^-2)^2 + 2*b^-1*a^-2*b^-1 + 2*a + 2*a^-1 + 2*a^2*b + b^-1*a^-1*(a^-1*b^-1)^2*b^-1*a^-2*b^-1*a^-1 + b^-1*a^-1*(a^-1*b^-1)^2*a*b^-1*a^-3 + b^-1 + 2*b^-1*a^-2 + (b^-1*a^-2)^2*a^-1 + b^-1*a^-2*b^-1*a^-1 + b^-1*a^-1*(a^-1*b^-1)^2*a + 2*b^-1*a^-1*(a^-1*b^-1)^2*a^-1 + 2*(a*b)^2*a^2*b"
      ]
     },
     "execution_count": 180,
     "metadata": {},
     "output_type": "execute_result"
    }
   ],
   "source": [
    "poly1 = 1-SGA_to_FGA_quotient(idems[0]); poly1"
   ]
  },
  {
   "cell_type": "code",
   "execution_count": 185,
   "id": "c95a9f90-3fa1-46fd-9453-9de1d8baaf92",
   "metadata": {},
   "outputs": [
    {
     "data": {
      "text/plain": [
       "1 + 2*a^-2 + 2*(b^-1*a^-2)^2 + 2*b^-1*a^-2*b^-1 + a + a^-1 + 2*b^-1*(b^-1*a^-2)^2 + a^2*b + 2*b^-1*a^-1*(a^-1*b^-1)^2*b^-1*a^-2*b^-1*a^-1 + 2*b^-1 + b^-1*a^-2 + 2*(b^-1*a^-2)^2*a^-1 + 2*b^-1*a^-2*b^-1*a^-1 + 2*b^-1*a^-1*(a^-1*b^-1)^2*a + b^-1*a^-1*(a^-1*b^-1)^2*a^-1 + (a*b)^2*a^2*b"
      ]
     },
     "execution_count": 185,
     "metadata": {},
     "output_type": "execute_result"
    }
   ],
   "source": [
    "poly2 = 1-SGA_to_FGA_quotient(idems[1]); poly2"
   ]
  },
  {
   "cell_type": "code",
   "execution_count": 213,
   "id": "62bbf7d3-0fe1-4803-8497-5edd345b438b",
   "metadata": {},
   "outputs": [
    {
     "name": "stdout",
     "output_type": "stream",
     "text": [
      "1\n",
      "(b^-1*a^-2)^2\n",
      "a^-2\n",
      "b^-1*a^-2*b^-1\n"
     ]
    },
    {
     "data": {
      "text/plain": [
       "2*a^-2 + 2*(b^-1*a^-2)^2 + 2*b^-1*a^-2*b^-1"
      ]
     },
     "execution_count": 213,
     "metadata": {},
     "output_type": "execute_result"
    }
   ],
   "source": [
    "poly3 = 1-SGA_to_FGA_quotient(idems[2]); poly3"
   ]
  },
  {
   "cell_type": "code",
   "execution_count": 194,
   "id": "5a081427-7354-4ddf-a0d3-cbb908c0fb98",
   "metadata": {},
   "outputs": [
    {
     "data": {
      "text/plain": [
       "'1'"
      ]
     },
     "execution_count": 194,
     "metadata": {},
     "output_type": "execute_result"
    }
   ],
   "source": [
    "\"1\".replace(\"x1\",\"a\").replace(\"x2\",\"b\")"
   ]
  },
  {
   "cell_type": "code",
   "execution_count": null,
   "id": "89bd5bb2-fe66-4116-8607-136e2c5d2716",
   "metadata": {},
   "outputs": [],
   "source": []
  }
 ],
 "metadata": {
  "kernelspec": {
   "display_name": "SageMath 10.3",
   "language": "sage",
   "name": "sagemath-10.3"
  },
  "language_info": {
   "codemirror_mode": {
    "name": "ipython",
    "version": 3
   },
   "file_extension": ".py",
   "mimetype": "text/x-python",
   "name": "python",
   "nbconvert_exporter": "python",
   "pygments_lexer": "ipython3",
   "version": "3.11.1"
  }
 },
 "nbformat": 4,
 "nbformat_minor": 5
}
