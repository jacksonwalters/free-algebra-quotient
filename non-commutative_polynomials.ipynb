{
 "cells": [
  {
   "cell_type": "code",
   "execution_count": null,
   "id": "4f25b4bf",
   "metadata": {},
   "outputs": [],
   "source": [
    "#REFS:\n",
    "#Short presentations for alternating and symmetric groups, J.N. Bray, M.D.E. Conder, C.R. Leedham-Green, and E.A. O’Brien\n",
    "#https://en.wikipedia.org/wiki/Chinese_remainder_theorem#Generalization_to_arbitrary_rings"
   ]
  },
  {
   "cell_type": "code",
   "execution_count": null,
   "id": "79cd1cda",
   "metadata": {},
   "outputs": [],
   "source": [
    "#a short presentation for S_n\n",
    "#{x,y|x^2 = y^n = (xy)^{n−1} = 1, (xy^{−1}xy)^3 = 1, (xy^{−j}xy^j)^2 = 1 for 2 \\le j \\le ⌊n/2⌋}"
   ]
  },
  {
   "cell_type": "code",
   "execution_count": 20,
   "id": "ad6275f0",
   "metadata": {},
   "outputs": [],
   "source": [
    "A.<x,y> = FreeAlgebra(GF(3), 2)\n",
    "P.<x,y> = A.g_algebra(relations={y*x:x*y}, order = 'lex')"
   ]
  },
  {
   "cell_type": "code",
   "execution_count": 12,
   "id": "5ca262fe",
   "metadata": {},
   "outputs": [
    {
     "data": {
      "text/plain": [
       "x*y"
      ]
     },
     "execution_count": 12,
     "metadata": {},
     "output_type": "execute_result"
    }
   ],
   "source": [
    "y*x"
   ]
  },
  {
   "cell_type": "code",
   "execution_count": 1,
   "id": "81b113ec",
   "metadata": {},
   "outputs": [],
   "source": []
  },
  {
   "cell_type": "code",
   "execution_count": 19,
   "id": "a2dc5132",
   "metadata": {},
   "outputs": [],
   "source": []
  },
  {
   "cell_type": "code",
   "execution_count": null,
   "id": "63146dad",
   "metadata": {},
   "outputs": [],
   "source": []
  }
 ],
 "metadata": {
  "kernelspec": {
   "display_name": "SageMath 10.1",
   "language": "sage",
   "name": "sagemath"
  },
  "language_info": {
   "codemirror_mode": {
    "name": "ipython",
    "version": 3
   },
   "file_extension": ".py",
   "mimetype": "text/x-python",
   "name": "python",
   "nbconvert_exporter": "python",
   "pygments_lexer": "ipython3",
   "version": "3.11.1"
  }
 },
 "nbformat": 4,
 "nbformat_minor": 5
}
