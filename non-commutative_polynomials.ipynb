{
 "cells": [
  {
   "cell_type": "code",
   "execution_count": 52,
   "id": "4f25b4bf",
   "metadata": {},
   "outputs": [],
   "source": [
    "#REFS:\n",
    "#Short presentations for alternating and symmetric groups, J.N. Bray, M.D.E. Conder, C.R. Leedham-Green, and E.A. O’Brien\n",
    "#https://en.wikipedia.org/wiki/Chinese_remainder_theorem#Generalization_to_arbitrary_rings"
   ]
  },
  {
   "cell_type": "code",
   "execution_count": 51,
   "id": "79cd1cda",
   "metadata": {},
   "outputs": [],
   "source": [
    "#a short presentation for S_n\n",
    "#{x,y|x^2 = y^n = (xy)^{n−1} = 1, (xy^{−1}xy)^3 = 1, (xy^{−j}xy^j)^2 = 1 for 2 \\le j \\le ⌊n/2⌋}"
   ]
  },
  {
   "cell_type": "code",
   "execution_count": 99,
   "id": "40162a26",
   "metadata": {},
   "outputs": [
    {
     "name": "stdout",
     "output_type": "stream",
     "text": [
      "#I  Forcing finiteness test\n"
     ]
    },
    {
     "data": {
      "text/plain": [
       "True"
      ]
     },
     "execution_count": 99,
     "metadata": {},
     "output_type": "execute_result"
    }
   ],
   "source": [
    "n=4\n",
    "F.<a,b> = FreeGroup()\n",
    "G = F / ([a^2, b^n, (a*b)^(n-1), (a*b^(-1)*a*b)^3] + [(a*b^(-j)*a*b^j)^2 for j in range(2,floor(n/2)+1)])\n",
    "G.is_isomorphic(SymmetricGroup(n))"
   ]
  },
  {
   "cell_type": "code",
   "execution_count": 71,
   "id": "588621dc",
   "metadata": {},
   "outputs": [],
   "source": [
    "#g_algebra is not working properly with relations"
   ]
  },
  {
   "cell_type": "code",
   "execution_count": 78,
   "id": "ad6275f0",
   "metadata": {},
   "outputs": [
    {
     "ename": "ValueError",
     "evalue": "not enough values to unpack (expected 2, got 0)",
     "output_type": "error",
     "traceback": [
      "\u001b[0;31m---------------------------------------------------------------------------\u001b[0m",
      "\u001b[0;31mValueError\u001b[0m                                Traceback (most recent call last)",
      "Cell \u001b[0;32mIn [78], line 2\u001b[0m\n\u001b[1;32m      1\u001b[0m A \u001b[38;5;241m=\u001b[39m FreeAlgebra(GF(Integer(\u001b[38;5;241m3\u001b[39m)), Integer(\u001b[38;5;241m2\u001b[39m), names\u001b[38;5;241m=\u001b[39m(\u001b[38;5;124m'\u001b[39m\u001b[38;5;124mx\u001b[39m\u001b[38;5;124m'\u001b[39m, \u001b[38;5;124m'\u001b[39m\u001b[38;5;124my\u001b[39m\u001b[38;5;124m'\u001b[39m,)); (x, y,) \u001b[38;5;241m=\u001b[39m A\u001b[38;5;241m.\u001b[39m_first_ngens(\u001b[38;5;241m2\u001b[39m)\n\u001b[0;32m----> 2\u001b[0m P \u001b[38;5;241m=\u001b[39m A\u001b[38;5;241m.\u001b[39mg_algebra(relations\u001b[38;5;241m=\u001b[39m{A(Integer(\u001b[38;5;241m1\u001b[39m)):x\u001b[38;5;241m*\u001b[39m\u001b[38;5;241m*\u001b[39mInteger(\u001b[38;5;241m2\u001b[39m)},order \u001b[38;5;241m=\u001b[39m \u001b[38;5;124m'\u001b[39m\u001b[38;5;124mlex\u001b[39m\u001b[38;5;124m'\u001b[39m, check\u001b[38;5;241m=\u001b[39m\u001b[38;5;28;01mFalse\u001b[39;00m, names\u001b[38;5;241m=\u001b[39m(\u001b[38;5;124m'\u001b[39m\u001b[38;5;124mx\u001b[39m\u001b[38;5;124m'\u001b[39m, \u001b[38;5;124m'\u001b[39m\u001b[38;5;124my\u001b[39m\u001b[38;5;124m'\u001b[39m,)); (x, y,) \u001b[38;5;241m=\u001b[39m P\u001b[38;5;241m.\u001b[39m_first_ngens(\u001b[38;5;241m2\u001b[39m)\n",
      "File \u001b[0;32m/private/var/tmp/sage-10.1-current/local/var/lib/sage/venv-python3.11.1/lib/python3.11/site-packages/sage/algebras/free_algebra.py:865\u001b[0m, in \u001b[0;36mFreeAlgebra_generic.g_algebra\u001b[0;34m(self, relations, names, order, check)\u001b[0m\n\u001b[1;32m    863\u001b[0m \u001b[38;5;28;01massert\u001b[39;00m \u001b[38;5;28misinstance\u001b[39m(to_commute, FreeAlgebraElement), to_commute\u001b[38;5;241m.\u001b[39m\u001b[38;5;18m__class__\u001b[39m\n\u001b[1;32m    864\u001b[0m \u001b[38;5;28;01massert\u001b[39;00m \u001b[38;5;28misinstance\u001b[39m(commuted, FreeAlgebraElement), commuted\n\u001b[0;32m--> 865\u001b[0m ((v1,e1),(v2,e2)) \u001b[38;5;241m=\u001b[39m \u001b[38;5;28mlist\u001b[39m(\u001b[38;5;28mlist\u001b[39m(to_commute)[\u001b[38;5;241m0\u001b[39m][\u001b[38;5;241m0\u001b[39m])\n\u001b[1;32m    866\u001b[0m \u001b[38;5;28;01massert\u001b[39;00m e1 \u001b[38;5;241m==\u001b[39m \u001b[38;5;241m1\u001b[39m\n\u001b[1;32m    867\u001b[0m \u001b[38;5;28;01massert\u001b[39;00m e2 \u001b[38;5;241m==\u001b[39m \u001b[38;5;241m1\u001b[39m\n",
      "\u001b[0;31mValueError\u001b[0m: not enough values to unpack (expected 2, got 0)"
     ]
    }
   ],
   "source": [
    "A.<x,y> = FreeAlgebra(GF(3), 2)\n",
    "P.<x,y> = A.g_algebra(relations={A(1):x^2},order = 'lex', check=False)"
   ]
  },
  {
   "cell_type": "code",
   "execution_count": 75,
   "id": "5ca262fe",
   "metadata": {},
   "outputs": [
    {
     "data": {
      "text/plain": [
       "Noncommutative Multivariate Polynomial Ring in x, y over Finite Field of size 3, nc-relations: {}"
      ]
     },
     "execution_count": 75,
     "metadata": {},
     "output_type": "execute_result"
    }
   ],
   "source": [
    "P"
   ]
  }
 ],
 "metadata": {
  "kernelspec": {
   "display_name": "SageMath 10.1",
   "language": "sage",
   "name": "sagemath"
  },
  "language_info": {
   "codemirror_mode": {
    "name": "ipython",
    "version": 3
   },
   "file_extension": ".py",
   "mimetype": "text/x-python",
   "name": "python",
   "nbconvert_exporter": "python",
   "pygments_lexer": "ipython3",
   "version": "3.11.1"
  }
 },
 "nbformat": 4,
 "nbformat_minor": 5
}
