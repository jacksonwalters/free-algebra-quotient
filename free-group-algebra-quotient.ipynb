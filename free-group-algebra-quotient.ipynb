{
 "cells": [
  {
   "cell_type": "code",
   "execution_count": 1,
   "id": "4f25b4bf",
   "metadata": {},
   "outputs": [],
   "source": [
    "#REFS:\n",
    "#Short presentations for alternating and symmetric groups, J.N. Bray, M.D.E. Conder, C.R. Leedham-Green, and E.A. O’Brien\n",
    "#https://en.wikipedia.org/wiki/Chinese_remainder_theorem#Generalization_to_arbitrary_rings"
   ]
  },
  {
   "cell_type": "code",
   "execution_count": 2,
   "id": "d7d0939f-4003-4596-87b0-68e044227fa3",
   "metadata": {},
   "outputs": [],
   "source": [
    "#we can represent the group algebra of a cyclic group as a polynomial ring quotient an ideal \n",
    "#F[C_N] = F[x]/(x^N-1)\n",
    "#and factor x^N-1, and use the Chinese remainder theorem and Bezout's identity for the isomorphism.\n",
    "#Similarly, we can write down a presentation of S_N, <\\sigma, \\tau | \\sigma^n = 1, \\tau^2 = 1, ...>,\n",
    "#with just two generators and then the group algebra is a quotient of a free algebra on two generators,\n",
    "#F[S_N] = F<x,y>/ (x^2 = y^n = (xy)^{n−1} = 1, (xy^{−1}xy)^3 = 1, (xy^{−j}xy^j)^2 = 1 for 2 \\le j \\le ⌊n/2⌋)\n",
    "#We still have the Chinese remainder theorem, and there algorthims to factor non-commutative polynomials. \n",
    "#It turns out this is equivalent to using central orthogonal idempotents.\n",
    "#Question: Do we gain anything with this approach?"
   ]
  },
  {
   "cell_type": "code",
   "execution_count": 3,
   "id": "a1e1bc1f-4b4c-4139-a42b-871e6c4ae590",
   "metadata": {},
   "outputs": [],
   "source": [
    "#Let I = I_1 \\cap \\ldots \\cap I_k be the intersection of pairwise coprime two-sided ideals, \n",
    "#i.e. there exists i+j = 1 in each distinct pair I_i, I_j.\n",
    "#Let phi: F<x,y>/I --> F<x,y>/I_1 \\times \\ldots \\times F<x,y>/I_k\n",
    "#Let f_i = (0,0, \\ldots , 1 , \\ldots 0, 0), a 1 in th i-th component and 0's elsewhere.\n",
    "#The e_i = \\phi^-1(f_i). I_i = F<x,y>(1-e_i).\n",
    "#In this case we have the idempotents e_i = e_i(x,y), so we can construct the ideals I_i = F<x,y>(1-e_i). \n",
    "#So really we just need to compute 1-e_i(x,y), so convert the group elements their words in x, y."
   ]
  },
  {
   "cell_type": "code",
   "execution_count": 161,
   "id": "40162a26",
   "metadata": {},
   "outputs": [
    {
     "data": {
      "text/plain": [
       "True"
      ]
     },
     "execution_count": 161,
     "metadata": {},
     "output_type": "execute_result"
    }
   ],
   "source": [
    "#a short presentation for S_n\n",
    "#{x,y|x^2 = y^n = (xy)^{n−1} = 1, (xy^{−1}xy)^3 = 1, (xy^{−j}xy^j)^2 = 1 for 2 \\le j \\le ⌊n/2⌋}\n",
    "n=4\n",
    "F.<a,b> = FreeGroup()\n",
    "G = F / ([a^2, b^n, (a*b)^(n-1), (a*b^(-1)*a*b)^3] + [(a*b^(-j)*a*b^j)^2 for j in range(2,floor(n/2)+1)])\n",
    "G.is_isomorphic(SymmetricGroup(n))"
   ]
  },
  {
   "cell_type": "code",
   "execution_count": 210,
   "id": "212eb153-24ea-41d1-b10a-2fb11d89eb51",
   "metadata": {},
   "outputs": [],
   "source": [
    "#CONSTRUCT EXPLICIT ISOMORPHISM \n",
    "#obtain map from quotient of free group to symmetric group using GAP library\n",
    "#[a^2, b^n, (a*b)^(n-1), (a*b^(-1)*a*b)^3] + [(a*b^(-j)*a*b^j)^2 for j in range(2,floor(n/2)+1)]\n",
    "#BUG: getting different values every time\n",
    "#FIX: that's okay, just precompute this, don't compute it every time\n",
    "def symmetric_group_gens(n):\n",
    "    f=gap.FreeGroup(2)\n",
    "    relations = gap([f.1^2, f.2^n, (f.1*f.2)^(n-1), (f.1*f.2^(-1)*f.1*f.2)^3] + [(f.1*f.2^(-j)*f.1*f.2^j)^2 for j in range(2,floor(n/2)+1)])\n",
    "    g = f / relations\n",
    "    Sn = gap.SymmetricGroup(n)\n",
    "    isom = gap.IsomorphismGroups(g,S4)\n",
    "    im_g = gap.Image(isom)\n",
    "    sym_gens = gap.GeneratorsOfGroup(im_g)\n",
    "    return list(sym_gens)"
   ]
  },
  {
   "cell_type": "code",
   "execution_count": 174,
   "id": "d182cf63-4316-40f9-bd6c-5dc3d2126303",
   "metadata": {},
   "outputs": [
    {
     "data": {
      "text/plain": [
       "(1,3)"
      ]
     },
     "execution_count": 174,
     "metadata": {},
     "output_type": "execute_result"
    }
   ],
   "source": [
    "SymmetricGroup(n)(symmetric_group_gens(4)[0])"
   ]
  },
  {
   "cell_type": "code",
   "execution_count": 6,
   "id": "fb2143d4-4aa4-4e08-99bb-79754a248f50",
   "metadata": {},
   "outputs": [],
   "source": [
    "#we can compute the homset, but I can't iterate through it!\n",
    "G_to_sym_homs = Hom(G,SymmetricGroup(n))"
   ]
  },
  {
   "cell_type": "code",
   "execution_count": 7,
   "id": "e5a0c591-73e6-4489-a6eb-ca5ba3a72bd5",
   "metadata": {},
   "outputs": [
    {
     "data": {
      "text/plain": [
       "<class 'sage.groups.libgap_morphism.GroupHomset_libgap_with_category'>"
      ]
     },
     "execution_count": 7,
     "metadata": {},
     "output_type": "execute_result"
    }
   ],
   "source": [
    "type(G_to_sym_homs)"
   ]
  },
  {
   "cell_type": "code",
   "execution_count": 8,
   "id": "192f8396-a92b-44f0-a32b-890f1de87a94",
   "metadata": {},
   "outputs": [
    {
     "data": {
      "text/plain": [
       "True"
      ]
     },
     "execution_count": 8,
     "metadata": {},
     "output_type": "execute_result"
    }
   ],
   "source": [
    "#we can easily and quickly compute idempotents for the symmetric group algebra\n",
    "p=3;\n",
    "SGA_GFp_n = SymmetricGroupAlgebra(GF(p),n)\n",
    "idems = SGA_GFp_n.central_orthogonal_idempotents()\n",
    "#for each group element in idempotents, find expression as a word in x,y\n",
    "idems[2]*idems[2] == idems[2]"
   ]
  },
  {
   "cell_type": "code",
   "execution_count": 9,
   "id": "a75d569f-f883-428c-8d61-897380644e64",
   "metadata": {},
   "outputs": [
    {
     "data": {
      "text/plain": [
       "Algebra of Finitely presented group < a, b | a^2, b^4, (a*b)^3, (a*b^-1*a*b)^3, (a*b^-2*a*b^2)^2 > over Finite Field of size 3"
      ]
     },
     "execution_count": 9,
     "metadata": {},
     "output_type": "execute_result"
    }
   ],
   "source": [
    "#can use free group algebra corresponding to G\n",
    "R = GF(3)\n",
    "FGA = GroupAlgebra(G, R); FGA"
   ]
  },
  {
   "cell_type": "code",
   "execution_count": 182,
   "id": "b89ca6ee-48d9-4999-b81b-9f4c868e164a",
   "metadata": {},
   "outputs": [],
   "source": [
    "#map from symmetric group algebra to quotient of free group algebra\n",
    "#we must use the standard symmetric group in order to solve the word problem\n",
    "#TO-DO: need to map solved word problem back to G\n",
    "#need to ensure isomorphism G <--> S_n is implemented properly\n",
    "def SGA_to_FGA_quotient(v):\n",
    "    #solve word problem for each basis element\n",
    "    FGA_convert = 0\n",
    "    sym_gens = symmetric_group_gens(n)\n",
    "    for pair in list(v):\n",
    "        coeff = FGA(pair[1])\n",
    "        sigma = SymmetricGroup(n)(pair[0])\n",
    "        #TO-DO: these should be replaced with appropriate generators from the isomorphim G <--> S_n\n",
    "        gens = [SymmetricGroup(n)(sym_gens[0]), SymmetricGroup(n)(sym_gens[1])]\n",
    "        word_gens, word_sym = sigma.word_problem(gens,display=False)\n",
    "        print(word_gens,word_sym)\n",
    "        #handle identity case separately\n",
    "        if word_gens == \"<identity ...>\":\n",
    "            replace_with_free_group_gens = \"1\"\n",
    "        else:\n",
    "            #map word in generators to free group quotient\n",
    "            #need to ensure this map is actually an homomorphism\n",
    "            #x2 <--> (1 2) <--> a, x1 <--> (1 2 ... n) <--> b\n",
    "            replace_with_free_group_gens = word_gens.replace(\"x2\",\"a\").replace(\"x1\",\"b\")\n",
    "        word_to_free_group_quotient = sage_eval(replace_with_free_group_gens,locals={'a':G.gens()[0],'b':G.gens()[1]})\n",
    "        FGA_convert += coeff*FGA(word_to_free_group_quotient)\n",
    "    return FGA_convert"
   ]
  },
  {
   "cell_type": "code",
   "execution_count": 183,
   "id": "6a7bce8f-b5b5-4cb3-bc18-73135010fe71",
   "metadata": {},
   "outputs": [
    {
     "name": "stdout",
     "output_type": "stream",
     "text": [
      "[(2,3), (1,2,3,4)]\n",
      "x1^-1*x2*x1^-1*x2^-2 (2,3)^-1*(1,2,3,4)*(2,3)^-1*(1,2,3,4)^-2\n",
      "[(2,4), (1,3,2,4)]\n",
      "x2^-1*(x2^-1*x1^-1)^2*x2*x1^-1*x2^-2*x1^-1*x2 (1,3,2,4)^-1*((1,3,2,4)^-1*(2,4)^-1)^2*(1,3,2,4)*(2,4)^-1*(1,3,2,4)^-2*(2,4)^-1*(1,3,2,4)\n",
      "[(1,3), (1,3,4,2)]\n",
      "(x1^-1*x2^-1)^2*x2^-1*x1^-1*x2 ((1,3)^-1*(1,3,4,2)^-1)^2*(1,3,4,2)^-1*(1,3)^-1*(1,3,4,2)\n",
      "[(2,4), (1,4,2,3)]\n",
      "x2^-1*x1^-1*x2^-2*x1^-1 (1,4,2,3)^-1*(2,4)^-1*(1,4,2,3)^-2*(2,4)^-1\n",
      "[(2,4), (1,3,4,2)]\n",
      "x1^-1*(x2^-2*x1^-1*x2^-1)^2*x1^-1*x2^-1 (2,4)^-1*((1,3,4,2)^-2*(2,4)^-1*(1,3,4,2)^-1)^2*(2,4)^-1*(1,3,4,2)^-1\n",
      "[(1,3), (1,4,2,3)]\n",
      "x1^-1*x2*x1^-1*x2^-1*x1^-2*x2^-1 (1,3)^-1*(1,4,2,3)*(1,3)^-1*(1,4,2,3)^-1*(1,3)^-2*(1,4,2,3)^-1\n",
      "[(2,3), (1,2,3,4)]\n",
      "x2*x1^-1*x2^-1*x1^-1*x2*x1^-1*x2^-2 (1,2,3,4)*(2,3)^-1*(1,2,3,4)^-1*(2,3)^-1*(1,2,3,4)*(2,3)^-1*(1,2,3,4)^-2\n",
      "[(1,3), (1,3,2,4)]\n",
      "(x1^-1*x2^-2)^2 ((1,3)^-1*(1,3,2,4)^-2)^2\n",
      "[(3,4), (1,2,3,4)]\n",
      "x1^-1*x2^-2*x1^-1 (3,4)^-1*(1,2,3,4)^-2*(3,4)^-1\n",
      "[(1,4), (1,4,3,2)]\n",
      "x2^-1 (1,4,3,2)^-1\n",
      "[(3,4), (1,3,4,2)]\n",
      "x2^-1 (1,3,4,2)^-1\n",
      "[(1,2), (1,4,3,2)]\n",
      "x1^-1*x2^-1*x1^-1 (1,2)^-1*(1,4,3,2)^-1*(1,2)^-1\n",
      "[(2,4), (1,3,2,4)]\n",
      "x2 (1,3,2,4)\n",
      "[(3,4), (1,3,4,2)]\n",
      "x1*x2*x1 (3,4)*(1,3,4,2)*(3,4)\n",
      "[(1,3), (1,3,4,2)]\n",
      "x1*x2*x1 (1,3)*(1,3,4,2)*(1,3)\n"
     ]
    },
    {
     "data": {
      "text/plain": [
       "a*b^-1*a^-1*b^-1*a*b^-1*a^-2 + 2*(b^-1*a^-1)^2*a^-1*b^-1*a + (b^-1*a^-2)^2 + b^-1*a^-2*b^-1 + 2*a^-1 + a + 2*a^-1*b^-1*a^-2*b^-1 + 2*b^-1*(a^-2*b^-1*a^-1)^2*b^-1*a^-1 + 2*b^-1*a*b^-1*a^-2 + b^-1*a^-1*b^-1 + 2*a^-1*(a^-1*b^-1)^2*a*b^-1*a^-2*b^-1*a + 2*b^-1*a*b^-1*a^-1*b^-2*a^-1 + 2*b*a*b"
      ]
     },
     "execution_count": 183,
     "metadata": {},
     "output_type": "execute_result"
    }
   ],
   "source": [
    "poly1 = SGA_to_FGA_quotient(idems[0]); poly1"
   ]
  },
  {
   "cell_type": "code",
   "execution_count": 177,
   "id": "c95a9f90-3fa1-46fd-9453-9de1d8baaf92",
   "metadata": {},
   "outputs": [
    {
     "data": {
      "text/plain": [
       "a^-2 + (b^-1*a^-2)^2 + a^-1 + 2*a + b^-1*(a^-1*b^-1*a^-1)^2*b^-1 + b^-1 + 2*b^-1*a*b^-1*a^-2 + a*b^-1*a^-1 + 2*b*a*b + (b^-1*a^-2)^2*a^-1 + b^-1*a^-1*(a^-1*b^-1)^2*a + b^-1*a^-1*(a^-1*b^-1)^2*a^-1"
      ]
     },
     "execution_count": 177,
     "metadata": {},
     "output_type": "execute_result"
    }
   ],
   "source": [
    "poly2 = SGA_to_FGA_quotient(idems[1]); poly2"
   ]
  },
  {
   "cell_type": "code",
   "execution_count": 178,
   "id": "62bbf7d3-0fe1-4803-8497-5edd345b438b",
   "metadata": {},
   "outputs": [
    {
     "data": {
      "text/plain": [
       "1 + b^-1*a*b^-1*a^-2*b^-2*a*b^-1*a^-1 + 2*(b^-1*a^-2)^2"
      ]
     },
     "execution_count": 178,
     "metadata": {},
     "output_type": "execute_result"
    }
   ],
   "source": [
    "poly3 = SGA_to_FGA_quotient(idems[2]); poly3"
   ]
  },
  {
   "cell_type": "code",
   "execution_count": 179,
   "id": "f577a6ec-8494-412c-a15e-33df805e27a4",
   "metadata": {},
   "outputs": [
    {
     "data": {
      "text/plain": [
       "1 + (b^-1*a^-2)^4 + (b^-1*a*b^-1*a^-2*b^-2*a*b^-1*a^-1)^2 + 2*b^-1*a*b^-1*a^-2*b^-2*a*b^-1*a^-1 + (b^-1*a^-2)^2 + 2*(b^-1*a^-2)^2*b^-1*a*b^-1*a^-2*b^-2*a*b^-1*a^-1 + 2*b^-1*a*b^-1*a^-2*b^-2*a*b^-1*(a^-1*b^-1*a^-1)^2*a^-1"
      ]
     },
     "execution_count": 179,
     "metadata": {},
     "output_type": "execute_result"
    }
   ],
   "source": [
    "#this should be idempotent\n",
    "poly3*poly3"
   ]
  },
  {
   "cell_type": "code",
   "execution_count": 15,
   "id": "b373b75c-ca1d-4346-9c4e-9b3cd9c4570c",
   "metadata": {},
   "outputs": [],
   "source": [
    "#could use Groebner bases for non-commutative polynomials to extract information from idempotent polynomials\n",
    "#GAP has a package GBNP, https://www.gap-system.org/Packages/gbnp.html\n",
    "#we can call Gap from Sage\n",
    "#need to install GBNP package\n",
    "#SAGE_ROOT = \"/Applications/SageMath-10-3.app/Contents/Frameworks/sage.framework/Versions/10.3\"\n",
    "#GAP_PKG = \"local/lib/gap/pkg\""
   ]
  },
  {
   "cell_type": "code",
   "execution_count": 16,
   "id": "1c53f317-5449-4658-bc7e-9037032b0ab1",
   "metadata": {},
   "outputs": [
    {
     "data": {
      "text/plain": [
       "true"
      ]
     },
     "execution_count": 16,
     "metadata": {},
     "output_type": "execute_result"
    }
   ],
   "source": [
    "gap('LoadPackage(\"gbnp\")')"
   ]
  },
  {
   "cell_type": "code",
   "execution_count": 17,
   "id": "ef657751-3922-41d2-bcc4-293604bcca3c",
   "metadata": {},
   "outputs": [],
   "source": [
    "#gap('PrintNP([[[1,2],[2,1]],[3,-1]])') should yield 3ab - ba"
   ]
  },
  {
   "cell_type": "code",
   "execution_count": 18,
   "id": "dcfefab4-92cc-4f2d-92b4-4a59efe266c4",
   "metadata": {},
   "outputs": [],
   "source": [
    "#one could use new variables w=a^-1 and z=b^-1 to get rid of the inverses\n",
    "#then one is factoring a polynomial of four variables"
   ]
  },
  {
   "cell_type": "code",
   "execution_count": null,
   "id": "8d572380-42b8-4c2e-8032-b08648d20797",
   "metadata": {},
   "outputs": [],
   "source": []
  }
 ],
 "metadata": {
  "kernelspec": {
   "display_name": "SageMath 10.3",
   "language": "sage",
   "name": "sagemath-10.3"
  },
  "language_info": {
   "codemirror_mode": {
    "name": "ipython",
    "version": 3
   },
   "file_extension": ".py",
   "mimetype": "text/x-python",
   "name": "python",
   "nbconvert_exporter": "python",
   "pygments_lexer": "ipython3",
   "version": "3.11.1"
  }
 },
 "nbformat": 4,
 "nbformat_minor": 5
}
