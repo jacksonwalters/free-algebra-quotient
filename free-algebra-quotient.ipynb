{
 "cells": [
  {
   "cell_type": "code",
   "execution_count": 1,
   "id": "4f25b4bf",
   "metadata": {},
   "outputs": [],
   "source": [
    "#REFS:\n",
    "#Short presentations for alternating and symmetric groups, J.N. Bray, M.D.E. Conder, C.R. Leedham-Green, and E.A. O’Brien\n",
    "#https://en.wikipedia.org/wiki/Chinese_remainder_theorem#Generalization_to_arbitrary_rings"
   ]
  },
  {
   "cell_type": "code",
   "execution_count": null,
   "id": "d7d0939f-4003-4596-87b0-68e044227fa3",
   "metadata": {},
   "outputs": [],
   "source": [
    "#we can represent the group algebra of a cyclic group as a polynomial ring quotient an ideal \n",
    "#F[C_N] = F[x]/(x^N-1)\n",
    "#and factor x^N-1, and use the Chinese remainder theorem and Bezout's identity for the isomorphism.\n",
    "#Similarly, we can write down a presentation of S_N, <\\sigma, \\tau | \\sigma^n = 1, \\tau^2 = 1, ...>,\n",
    "#with just two generators and then the group algebra is a quotient of a free algebra on two generators,\n",
    "#F[S_N] = F<x,y>/ (x^2 = y^n = (xy)^{n−1} = 1, (xy^{−1}xy)^3 = 1, (xy^{−j}xy^j)^2 = 1 for 2 \\le j \\le ⌊n/2⌋)\n",
    "#We still have the Chinese remainder theorem, and there algorthims to factor non-commutative polynomials. \n",
    "#It turns out this is equivalent to using central orthogonal idempotents.\n",
    "#Question: Do we gain anything with this approach?"
   ]
  },
  {
   "cell_type": "code",
   "execution_count": 5,
   "id": "40162a26",
   "metadata": {},
   "outputs": [
    {
     "name": "stdout",
     "output_type": "stream",
     "text": [
      "#I  Forcing finiteness test\n"
     ]
    },
    {
     "data": {
      "text/plain": [
       "True"
      ]
     },
     "execution_count": 5,
     "metadata": {},
     "output_type": "execute_result"
    }
   ],
   "source": [
    "#a short presentation for S_n\n",
    "#{x,y|x^2 = y^n = (xy)^{n−1} = 1, (xy^{−1}xy)^3 = 1, (xy^{−j}xy^j)^2 = 1 for 2 \\le j \\le ⌊n/2⌋}\n",
    "n=4\n",
    "F.<a,b> = FreeGroup()\n",
    "G = F / ([a^2, b^n, (a*b)^(n-1), (a*b^(-1)*a*b)^3] + [(a*b^(-j)*a*b^j)^2 for j in range(2,floor(n/2)+1)])\n",
    "G.is_isomorphic(SymmetricGroup(n))"
   ]
  },
  {
   "cell_type": "code",
   "execution_count": 4,
   "id": "588621dc",
   "metadata": {},
   "outputs": [],
   "source": [
    "#g_algebra is not working properly with relations"
   ]
  },
  {
   "cell_type": "code",
   "execution_count": 4,
   "id": "ad6275f0",
   "metadata": {},
   "outputs": [
    {
     "name": "stdout",
     "output_type": "stream",
     "text": [
      "not enough values to unpack (expected 2, got 0)\n"
     ]
    }
   ],
   "source": [
    "A.<x,y> = FreeAlgebra(GF(3), 2)\n",
    "try:\n",
    "    P.<x,y> = A.g_algebra(relations={A(1):x^2},order = 'lex', check=False)\n",
    "except ValueError as error:\n",
    "    print(error)"
   ]
  },
  {
   "cell_type": "code",
   "execution_count": 6,
   "id": "338e45ac-1c2e-401b-b51b-e18970a84395",
   "metadata": {},
   "outputs": [],
   "source": [
    "#Let I = I_1 \\cap \\ldots \\cap I_k be the intersection of pairwise coprime two-sided ideals, \n",
    "#i.e. there exists i+j = 1 in each distinct pair I_i, I_j.\n",
    "#Let phi: F<x,y>/I --> F<x,y>/I_1 \\times \\ldots \\times F<x,y>/I_k\n",
    "#Let f_i = (0,0, \\ldots , 1 , \\ldots 0, 0), a 1 in th i-th component and 0's elsewhere.\n",
    "#The e_i = \\phi^-1(f_i). I_i = F<x,y>(1-e_i).\n",
    "#In this case we have the idempotents e_i = e_i(x,y), so we can construct the ideals I_i = F<x,y>(1-e_i). \n",
    "#So really we just need to compute 1-e_i(x,y), so convert the group elements their words in x, y."
   ]
  },
  {
   "cell_type": "code",
   "execution_count": 7,
   "id": "192f8396-a92b-44f0-a32b-890f1de87a94",
   "metadata": {},
   "outputs": [],
   "source": [
    "p=3;\n",
    "SGA_GFp_n = SymmetricGroupAlgebra(GF(p),n)"
   ]
  },
  {
   "cell_type": "code",
   "execution_count": 8,
   "id": "2f59aa0c-61f6-450a-8662-fb76b375c3fd",
   "metadata": {},
   "outputs": [],
   "source": [
    "idems = SGA_GFp_n.central_orthogonal_idempotents()"
   ]
  },
  {
   "cell_type": "code",
   "execution_count": 9,
   "id": "7168e756-db80-4085-9166-a1a927b95e9c",
   "metadata": {},
   "outputs": [
    {
     "data": {
      "text/plain": [
       "[2*[1, 2, 4, 3] + 2*[1, 3, 2, 4] + 2*[1, 4, 3, 2] + 2*[2, 1, 3, 4] + [2, 1, 4, 3] + [2, 3, 4, 1] + [2, 4, 1, 3] + [3, 1, 4, 2] + 2*[3, 2, 1, 4] + [3, 4, 1, 2] + [3, 4, 2, 1] + [4, 1, 2, 3] + 2*[4, 2, 3, 1] + [4, 3, 1, 2] + [4, 3, 2, 1],\n",
       " [1, 2, 4, 3] + [1, 3, 2, 4] + [1, 4, 3, 2] + [2, 1, 3, 4] + [2, 1, 4, 3] + 2*[2, 3, 4, 1] + 2*[2, 4, 1, 3] + 2*[3, 1, 4, 2] + [3, 2, 1, 4] + [3, 4, 1, 2] + 2*[3, 4, 2, 1] + 2*[4, 1, 2, 3] + [4, 2, 3, 1] + 2*[4, 3, 1, 2] + [4, 3, 2, 1],\n",
       " [1, 2, 3, 4] + [2, 1, 4, 3] + [3, 4, 1, 2] + [4, 3, 2, 1]]"
      ]
     },
     "execution_count": 9,
     "metadata": {},
     "output_type": "execute_result"
    }
   ],
   "source": [
    "#for each group element in idempotents, find expression as a word in x,y"
   ]
  },
  {
   "cell_type": "code",
   "execution_count": null,
   "id": "461fb5c8-4158-4c90-887d-68226be48470",
   "metadata": {},
   "outputs": [],
   "source": []
  }
 ],
 "metadata": {
  "kernelspec": {
   "display_name": "SageMath 10.3",
   "language": "sage",
   "name": "sagemath-10.3"
  },
  "language_info": {
   "codemirror_mode": {
    "name": "ipython",
    "version": 3
   },
   "file_extension": ".py",
   "mimetype": "text/x-python",
   "name": "python",
   "nbconvert_exporter": "python",
   "pygments_lexer": "ipython3",
   "version": "3.11.1"
  }
 },
 "nbformat": 4,
 "nbformat_minor": 5
}
