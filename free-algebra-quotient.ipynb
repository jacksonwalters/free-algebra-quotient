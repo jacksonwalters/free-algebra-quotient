{
 "cells": [
  {
   "cell_type": "code",
   "execution_count": 19,
   "id": "4f25b4bf",
   "metadata": {},
   "outputs": [],
   "source": [
    "#REFS:\n",
    "#Short presentations for alternating and symmetric groups, J.N. Bray, M.D.E. Conder, C.R. Leedham-Green, and E.A. O’Brien\n",
    "#https://en.wikipedia.org/wiki/Chinese_remainder_theorem#Generalization_to_arbitrary_rings"
   ]
  },
  {
   "cell_type": "code",
   "execution_count": 20,
   "id": "d7d0939f-4003-4596-87b0-68e044227fa3",
   "metadata": {},
   "outputs": [],
   "source": [
    "#we can represent the group algebra of a cyclic group as a polynomial ring quotient an ideal \n",
    "#F[C_N] = F[x]/(x^N-1)\n",
    "#and factor x^N-1, and use the Chinese remainder theorem and Bezout's identity for the isomorphism.\n",
    "#Similarly, we can write down a presentation of S_N, <\\sigma, \\tau | \\sigma^n = 1, \\tau^2 = 1, ...>,\n",
    "#with just two generators and then the group algebra is a quotient of a free algebra on two generators,\n",
    "#F[S_N] = F<x,y>/ (x^2 = y^n = (xy)^{n−1} = 1, (xy^{−1}xy)^3 = 1, (xy^{−j}xy^j)^2 = 1 for 2 \\le j \\le ⌊n/2⌋)\n",
    "#We still have the Chinese remainder theorem, and there algorthims to factor non-commutative polynomials. \n",
    "#It turns out this is equivalent to using central orthogonal idempotents.\n",
    "#Question: Do we gain anything with this approach?"
   ]
  },
  {
   "cell_type": "code",
   "execution_count": 21,
   "id": "40162a26",
   "metadata": {},
   "outputs": [
    {
     "data": {
      "text/plain": [
       "True"
      ]
     },
     "execution_count": 21,
     "metadata": {},
     "output_type": "execute_result"
    }
   ],
   "source": [
    "#a short presentation for S_n\n",
    "#{x,y|x^2 = y^n = (xy)^{n−1} = 1, (xy^{−1}xy)^3 = 1, (xy^{−j}xy^j)^2 = 1 for 2 \\le j \\le ⌊n/2⌋}\n",
    "n=4\n",
    "F.<a,b> = FreeGroup()\n",
    "G = F / ([a^2, b^n, (a*b)^(n-1), (a*b^(-1)*a*b)^3] + [(a*b^(-j)*a*b^j)^2 for j in range(2,floor(n/2)+1)])\n",
    "G.is_isomorphic(SymmetricGroup(n))"
   ]
  },
  {
   "cell_type": "code",
   "execution_count": 22,
   "id": "7bae50ed-3937-4790-9acb-365d26905765",
   "metadata": {},
   "outputs": [
    {
     "data": {
      "text/plain": [
       "((1,2,3,4), (1,2))"
      ]
     },
     "execution_count": 22,
     "metadata": {},
     "output_type": "execute_result"
    }
   ],
   "source": [
    "#however, the syemmtric group itself has the abilitity to solve the word problem\n",
    "#so we just need an isomorphism G <--> S_n \n",
    "sym_n = SymmetricGroup(n); sym_n.gens()"
   ]
  },
  {
   "cell_type": "code",
   "execution_count": 23,
   "id": "f2587aac-a266-4978-bd87-9b1f12e05407",
   "metadata": {},
   "outputs": [
    {
     "data": {
      "text/plain": [
       "<class 'sage.groups.libgap_morphism.GroupHomset_libgap_with_category'>"
      ]
     },
     "execution_count": 23,
     "metadata": {},
     "output_type": "execute_result"
    }
   ],
   "source": [
    "type(Hom(G,sym_n))"
   ]
  },
  {
   "cell_type": "code",
   "execution_count": 24,
   "id": "87ba7459-4dff-4bc4-ab9c-c1cca2afa91e",
   "metadata": {},
   "outputs": [
    {
     "name": "stdout",
     "output_type": "stream",
     "text": [
      "'FinitelyPresentedGroup_with_category.element_class' object has no attribute 'word_problem'\n"
     ]
    }
   ],
   "source": [
    "#the group given by generators and relations does not have a built-in\n",
    "g = G.an_element()\n",
    "try:\n",
    "    g.word_problem(G.gens())\n",
    "except AttributeError as error:\n",
    "    print(error)"
   ]
  },
  {
   "cell_type": "code",
   "execution_count": 25,
   "id": "8b0f7bbc-3081-4453-b1c0-5f48b7feaffa",
   "metadata": {},
   "outputs": [
    {
     "name": "stdout",
     "output_type": "stream",
     "text": [
      "x1*x2\n",
      "[['(1,2,3,4)', 1], ['(1,2)', 1]]\n"
     ]
    },
    {
     "data": {
      "text/plain": [
       "('x1*x2', '(1,2,3,4)*(1,2)')"
      ]
     },
     "execution_count": 25,
     "metadata": {},
     "output_type": "execute_result"
    }
   ],
   "source": [
    "g = sym_n.an_element()\n",
    "g.word_problem(sym_n.gens())"
   ]
  },
  {
   "cell_type": "code",
   "execution_count": 26,
   "id": "ad6275f0",
   "metadata": {},
   "outputs": [
    {
     "name": "stdout",
     "output_type": "stream",
     "text": [
      "not enough values to unpack (expected 2, got 0)\n"
     ]
    }
   ],
   "source": [
    "#g_algebra is not working properly with relations\n",
    "A.<x,y> = FreeAlgebra(GF(3), 2)\n",
    "try:\n",
    "    P.<x,y> = A.g_algebra(relations={A(1):x^2},order = 'lex', check=False)\n",
    "except ValueError as error:\n",
    "    print(error)"
   ]
  },
  {
   "cell_type": "code",
   "execution_count": 27,
   "id": "338e45ac-1c2e-401b-b51b-e18970a84395",
   "metadata": {},
   "outputs": [],
   "source": [
    "#Let I = I_1 \\cap \\ldots \\cap I_k be the intersection of pairwise coprime two-sided ideals, \n",
    "#i.e. there exists i+j = 1 in each distinct pair I_i, I_j.\n",
    "#Let phi: F<x,y>/I --> F<x,y>/I_1 \\times \\ldots \\times F<x,y>/I_k\n",
    "#Let f_i = (0,0, \\ldots , 1 , \\ldots 0, 0), a 1 in th i-th component and 0's elsewhere.\n",
    "#The e_i = \\phi^-1(f_i). I_i = F<x,y>(1-e_i).\n",
    "#In this case we have the idempotents e_i = e_i(x,y), so we can construct the ideals I_i = F<x,y>(1-e_i). \n",
    "#So really we just need to compute 1-e_i(x,y), so convert the group elements their words in x, y."
   ]
  },
  {
   "cell_type": "code",
   "execution_count": 28,
   "id": "192f8396-a92b-44f0-a32b-890f1de87a94",
   "metadata": {},
   "outputs": [
    {
     "data": {
      "text/plain": [
       "[([1, 2, 4, 3], 2),\n",
       " ([1, 3, 2, 4], 2),\n",
       " ([1, 4, 3, 2], 2),\n",
       " ([2, 1, 3, 4], 2),\n",
       " ([3, 2, 1, 4], 2),\n",
       " ([4, 2, 3, 1], 2),\n",
       " ([2, 1, 4, 3], 1),\n",
       " ([3, 4, 1, 2], 1),\n",
       " ([4, 3, 2, 1], 1),\n",
       " ([2, 3, 4, 1], 1),\n",
       " ([2, 4, 1, 3], 1),\n",
       " ([3, 1, 4, 2], 1),\n",
       " ([3, 4, 2, 1], 1),\n",
       " ([4, 1, 2, 3], 1),\n",
       " ([4, 3, 1, 2], 1)]"
      ]
     },
     "execution_count": 28,
     "metadata": {},
     "output_type": "execute_result"
    }
   ],
   "source": [
    "#we can easily and quickly compute idempotents for the symmetric group algebra\n",
    "p=3;\n",
    "SGA_GFp_n = SymmetricGroupAlgebra(GF(p),n)\n",
    "idems = SGA_GFp_n.central_orthogonal_idempotents()\n",
    "#for each group element in idempotents, find expression as a word in x,y\n",
    "list(idems[0])"
   ]
  },
  {
   "cell_type": "code",
   "execution_count": 29,
   "id": "8cca9a71-35c6-48a4-86bd-5f344f6d828c",
   "metadata": {},
   "outputs": [
    {
     "data": {
      "text/plain": [
       "(3,4)"
      ]
     },
     "execution_count": 29,
     "metadata": {},
     "output_type": "execute_result"
    }
   ],
   "source": [
    "SymmetricGroup(n)(list(idems[0])[0][0])"
   ]
  },
  {
   "cell_type": "code",
   "execution_count": 91,
   "id": "a75d569f-f883-428c-8d61-897380644e64",
   "metadata": {},
   "outputs": [
    {
     "data": {
      "text/plain": [
       "Algebra of Finitely presented group < a, b | a^2, b^4, (a*b)^3, (a*b^-1*a*b)^3, (a*b^-2*a*b^2)^2 > over Finite Field of size 3"
      ]
     },
     "execution_count": 91,
     "metadata": {},
     "output_type": "execute_result"
    }
   ],
   "source": [
    "#can use free group algebra corresponding to g\n",
    "R = GF(3)\n",
    "FGA = GroupAlgebra(G, R); FGA"
   ]
  },
  {
   "cell_type": "code",
   "execution_count": 122,
   "id": "b89ca6ee-48d9-4999-b81b-9f4c868e164a",
   "metadata": {},
   "outputs": [],
   "source": [
    "#map from symmetric group algebra to quotient of free group algebra\n",
    "#we must use the standard symmetric group in order to solve the word problem\n",
    "#TO-DO: need to map solved word problem back to G\n",
    "def SGA_to_FGA_quotient(v):\n",
    "    #solve word problem for each basis element\n",
    "    to_FGA_element = 0\n",
    "    for pair in list(v):\n",
    "        coeff = pair[1]\n",
    "        sigma = SymmetricGroup(n)(pair[0])\n",
    "        gens = SymmetricGroup(n).gens()\n",
    "        word_gens, word_sym = sigma.word_problem(gens,display=False)\n",
    "        #map word in generators to free group quotient\n",
    "        word_to_free_group_quotient = sage_eval(word_gens.replace(\"x1\",\"a\").replace(\"x2\",\"b\"),locals={'a':FGA.0,'b':FGA.1})\n",
    "        print(word_to_free_group_quotient)"
   ]
  },
  {
   "cell_type": "code",
   "execution_count": 123,
   "id": "6a7bce8f-b5b5-4cb3-bc18-73135010fe71",
   "metadata": {},
   "outputs": [
    {
     "ename": "ValueError",
     "evalue": "cannot invert self (= b)",
     "output_type": "error",
     "traceback": [
      "\u001b[0;31m---------------------------------------------------------------------------\u001b[0m",
      "\u001b[0;31mValueError\u001b[0m                                Traceback (most recent call last)",
      "Cell \u001b[0;32mIn[123], line 1\u001b[0m\n\u001b[0;32m----> 1\u001b[0m \u001b[43mSGA_to_FGA_quotient\u001b[49m\u001b[43m(\u001b[49m\u001b[43midems\u001b[49m\u001b[43m[\u001b[49m\u001b[43mInteger\u001b[49m\u001b[43m(\u001b[49m\u001b[38;5;241;43m0\u001b[39;49m\u001b[43m)\u001b[49m\u001b[43m]\u001b[49m\u001b[43m)\u001b[49m\n",
      "Cell \u001b[0;32mIn[122], line 13\u001b[0m, in \u001b[0;36mSGA_to_FGA_quotient\u001b[0;34m(v)\u001b[0m\n\u001b[1;32m     11\u001b[0m word_gens, word_sym \u001b[38;5;241m=\u001b[39m sigma\u001b[38;5;241m.\u001b[39mword_problem(gens,display\u001b[38;5;241m=\u001b[39m\u001b[38;5;28;01mFalse\u001b[39;00m)\n\u001b[1;32m     12\u001b[0m \u001b[38;5;66;03m#map word in generators to free group quotient\u001b[39;00m\n\u001b[0;32m---> 13\u001b[0m word_to_free_group_quotient \u001b[38;5;241m=\u001b[39m \u001b[43msage_eval\u001b[49m\u001b[43m(\u001b[49m\u001b[43mword_gens\u001b[49m\u001b[38;5;241;43m.\u001b[39;49m\u001b[43mreplace\u001b[49m\u001b[43m(\u001b[49m\u001b[38;5;124;43m\"\u001b[39;49m\u001b[38;5;124;43mx1\u001b[39;49m\u001b[38;5;124;43m\"\u001b[39;49m\u001b[43m,\u001b[49m\u001b[38;5;124;43m\"\u001b[39;49m\u001b[38;5;124;43ma\u001b[39;49m\u001b[38;5;124;43m\"\u001b[39;49m\u001b[43m)\u001b[49m\u001b[38;5;241;43m.\u001b[39;49m\u001b[43mreplace\u001b[49m\u001b[43m(\u001b[49m\u001b[38;5;124;43m\"\u001b[39;49m\u001b[38;5;124;43mx2\u001b[39;49m\u001b[38;5;124;43m\"\u001b[39;49m\u001b[43m,\u001b[49m\u001b[38;5;124;43m\"\u001b[39;49m\u001b[38;5;124;43mb\u001b[39;49m\u001b[38;5;124;43m\"\u001b[39;49m\u001b[43m)\u001b[49m\u001b[43m,\u001b[49m\u001b[38;5;28;43mlocals\u001b[39;49m\u001b[38;5;241;43m=\u001b[39;49m\u001b[43m{\u001b[49m\u001b[38;5;124;43m'\u001b[39;49m\u001b[38;5;124;43ma\u001b[39;49m\u001b[38;5;124;43m'\u001b[39;49m\u001b[43m:\u001b[49m\u001b[43mFGA\u001b[49m\u001b[38;5;241;43m.\u001b[39;49m\u001b[43mgen\u001b[49m\u001b[43m(\u001b[49m\u001b[38;5;241;43m0\u001b[39;49m\u001b[43m)\u001b[49m\u001b[43m,\u001b[49m\u001b[38;5;124;43m'\u001b[39;49m\u001b[38;5;124;43mb\u001b[39;49m\u001b[38;5;124;43m'\u001b[39;49m\u001b[43m:\u001b[49m\u001b[43mFGA\u001b[49m\u001b[38;5;241;43m.\u001b[39;49m\u001b[43mgen\u001b[49m\u001b[43m(\u001b[49m\u001b[38;5;241;43m1\u001b[39;49m\u001b[43m)\u001b[49m\u001b[43m}\u001b[49m\u001b[43m)\u001b[49m\n\u001b[1;32m     14\u001b[0m \u001b[38;5;28mprint\u001b[39m(word_to_free_group_quotient)\n",
      "File \u001b[0;32m/private/var/tmp/sage-10.3-current/local/var/lib/sage/venv-python3.11.1/lib/python3.11/site-packages/sage/misc/sage_eval.py:199\u001b[0m, in \u001b[0;36msage_eval\u001b[0;34m(source, locals, cmds, preparse)\u001b[0m\n\u001b[1;32m    197\u001b[0m     \u001b[38;5;28;01mreturn\u001b[39;00m \u001b[38;5;28mlocals\u001b[39m[\u001b[38;5;124m'\u001b[39m\u001b[38;5;124m_sage_eval_returnval_\u001b[39m\u001b[38;5;124m'\u001b[39m]\n\u001b[1;32m    198\u001b[0m \u001b[38;5;28;01melse\u001b[39;00m:\n\u001b[0;32m--> 199\u001b[0m     \u001b[38;5;28;01mreturn\u001b[39;00m \u001b[38;5;28meval\u001b[39m(source, sage\u001b[38;5;241m.\u001b[39mall\u001b[38;5;241m.\u001b[39m\u001b[38;5;18m__dict__\u001b[39m, \u001b[38;5;28mlocals\u001b[39m)\n",
      "File \u001b[0;32m<string>:1\u001b[0m\n",
      "File \u001b[0;32m/private/var/tmp/sage-10.3-current/local/var/lib/sage/venv-python3.11.1/lib/python3.11/site-packages/sage/structure/element.pyx:2052\u001b[0m, in \u001b[0;36msage.structure.element.Element.__pow__ (build/cythonized/sage/structure/element.c:22365)\u001b[0;34m()\u001b[0m\n\u001b[1;32m   2050\u001b[0m     return (<Element>left)._pow_(right)\n\u001b[1;32m   2051\u001b[0m if BOTH_ARE_ELEMENT(cl):\n\u001b[0;32m-> 2052\u001b[0m     return coercion_model.bin_op(left, right, pow)\n\u001b[1;32m   2053\u001b[0m \n\u001b[1;32m   2054\u001b[0m cdef long value\n",
      "File \u001b[0;32m/private/var/tmp/sage-10.3-current/local/var/lib/sage/venv-python3.11.1/lib/python3.11/site-packages/sage/structure/coerce.pyx:1226\u001b[0m, in \u001b[0;36msage.structure.coerce.CoercionModel.bin_op (build/cythonized/sage/structure/coerce.c:15860)\u001b[0;34m()\u001b[0m\n\u001b[1;32m   1224\u001b[0m         return (<Action>action)._act_(x, y)\n\u001b[1;32m   1225\u001b[0m     else:\n\u001b[0;32m-> 1226\u001b[0m         return (<Action>action)._act_(y, x)\n\u001b[1;32m   1227\u001b[0m \n\u001b[1;32m   1228\u001b[0m # Now coerce to a common parent and do the operation there\n",
      "File \u001b[0;32m/private/var/tmp/sage-10.3-current/local/var/lib/sage/venv-python3.11.1/lib/python3.11/site-packages/sage/structure/coerce_actions.pyx:906\u001b[0m, in \u001b[0;36msage.structure.coerce_actions.IntegerPowAction._act_ (build/cythonized/sage/structure/coerce_actions.c:15081)\u001b[0;34m()\u001b[0m\n\u001b[1;32m    904\u001b[0m integer_check_long(n, &value, &err)\n\u001b[1;32m    905\u001b[0m if not err:\n\u001b[0;32m--> 906\u001b[0m     return e._pow_long(value)\n\u001b[1;32m    907\u001b[0m return e._pow_int(n)\n\u001b[1;32m    908\u001b[0m \n",
      "File \u001b[0;32m/private/var/tmp/sage-10.3-current/local/var/lib/sage/venv-python3.11.1/lib/python3.11/site-packages/sage/structure/element.pyx:2129\u001b[0m, in \u001b[0;36msage.structure.element.Element._pow_long (build/cythonized/sage/structure/element.c:22935)\u001b[0;34m()\u001b[0m\n\u001b[1;32m   2127\u001b[0m Generic path for powering with a C long.\n\u001b[1;32m   2128\u001b[0m \"\"\"\n\u001b[0;32m-> 2129\u001b[0m return self._pow_int(n)\n\u001b[1;32m   2130\u001b[0m \n\u001b[1;32m   2131\u001b[0m \n",
      "File \u001b[0;32m/private/var/tmp/sage-10.3-current/local/var/lib/sage/venv-python3.11.1/lib/python3.11/site-packages/sage/structure/element.pyx:2123\u001b[0m, in \u001b[0;36msage.structure.element.Element._pow_int (build/cythonized/sage/structure/element.c:22822)\u001b[0;34m()\u001b[0m\n\u001b[1;32m   2121\u001b[0m         raise bin_op_exception('^', self, other)\n\u001b[1;32m   2122\u001b[0m     else:\n\u001b[0;32m-> 2123\u001b[0m         return python_op(other)\n\u001b[1;32m   2124\u001b[0m \n\u001b[1;32m   2125\u001b[0m cdef _pow_long(self, long n) noexcept:\n",
      "File \u001b[0;32m/private/var/tmp/sage-10.3-current/local/var/lib/sage/venv-python3.11.1/lib/python3.11/site-packages/sage/categories/monoids.py:306\u001b[0m, in \u001b[0;36mMonoids.ElementMethods._pow_int\u001b[0;34m(self, n)\u001b[0m\n\u001b[1;32m    292\u001b[0m \u001b[38;5;28;01mdef\u001b[39;00m \u001b[38;5;21m_pow_int\u001b[39m(\u001b[38;5;28mself\u001b[39m, n):\n\u001b[1;32m    293\u001b[0m \u001b[38;5;250m    \u001b[39m\u001b[38;5;124mr\u001b[39m\u001b[38;5;124;03m\"\"\"\u001b[39;00m\n\u001b[1;32m    294\u001b[0m \u001b[38;5;124;03m    Return ``self`` to the `n^{th}` power.\u001b[39;00m\n\u001b[1;32m    295\u001b[0m \n\u001b[0;32m   (...)\u001b[0m\n\u001b[1;32m    304\u001b[0m \u001b[38;5;124;03m        'aaaaa'\u001b[39;00m\n\u001b[1;32m    305\u001b[0m \u001b[38;5;124;03m    \"\"\"\u001b[39;00m\n\u001b[0;32m--> 306\u001b[0m     \u001b[38;5;28;01mreturn\u001b[39;00m \u001b[43mgeneric_power\u001b[49m\u001b[43m(\u001b[49m\u001b[38;5;28;43mself\u001b[39;49m\u001b[43m,\u001b[49m\u001b[43m \u001b[49m\u001b[43mn\u001b[49m\u001b[43m)\u001b[49m\n",
      "File \u001b[0;32m/private/var/tmp/sage-10.3-current/local/var/lib/sage/venv-python3.11.1/lib/python3.11/site-packages/sage/arith/power.pyx:23\u001b[0m, in \u001b[0;36msage.arith.power.generic_power (build/cythonized/sage/arith/power.c:6440)\u001b[0;34m()\u001b[0m\n\u001b[1;32m     21\u001b[0m \n\u001b[1;32m     22\u001b[0m \n\u001b[0;32m---> 23\u001b[0m cpdef generic_power(a, n) noexcept:\n\u001b[1;32m     24\u001b[0m     \"\"\"\n\u001b[1;32m     25\u001b[0m     Return `a^n`.\n",
      "File \u001b[0;32m/private/var/tmp/sage-10.3-current/local/var/lib/sage/venv-python3.11.1/lib/python3.11/site-packages/sage/arith/power.pyx:83\u001b[0m, in \u001b[0;36msage.arith.power.generic_power (build/cythonized/sage/arith/power.c:6225)\u001b[0;34m()\u001b[0m\n\u001b[1;32m     81\u001b[0m     raise NotImplementedError(\"non-integral exponents not supported\")\n\u001b[1;32m     82\u001b[0m if not err:\n\u001b[0;32m---> 83\u001b[0m     return generic_power_long(a, value)\n\u001b[1;32m     84\u001b[0m \n\u001b[1;32m     85\u001b[0m if n < 0:\n",
      "File \u001b[0;32m/private/var/tmp/sage-10.3-current/local/var/lib/sage/venv-python3.11.1/lib/python3.11/site-packages/sage/arith/power.pyx:101\u001b[0m, in \u001b[0;36msage.arith.power.generic_power_long (build/cythonized/sage/arith/power.c:6545)\u001b[0;34m()\u001b[0m\n\u001b[1;32m     99\u001b[0m if n < 0:\n\u001b[1;32m    100\u001b[0m     u = -u\n\u001b[0;32m--> 101\u001b[0m     a = invert(a)\n\u001b[1;32m    102\u001b[0m return generic_power_pos(a, u)\n\u001b[1;32m    103\u001b[0m \n",
      "File \u001b[0;32m/private/var/tmp/sage-10.3-current/local/var/lib/sage/venv-python3.11.1/lib/python3.11/site-packages/sage/arith/power.pxd:20\u001b[0m, in \u001b[0;36msage.arith.power.invert (build/cythonized/sage/arith/power.c:4260)\u001b[0;34m()\u001b[0m\n\u001b[1;32m     18\u001b[0m \"\"\"\n\u001b[1;32m     19\u001b[0m if isinstance(a, Element):\n\u001b[0;32m---> 20\u001b[0m     return ~a\n\u001b[1;32m     21\u001b[0m return PyNumber_TrueDivide(type(a)(1), a)\n\u001b[1;32m     22\u001b[0m \n",
      "File \u001b[0;32m/private/var/tmp/sage-10.3-current/local/var/lib/sage/venv-python3.11.1/lib/python3.11/site-packages/sage/categories/algebras_with_basis.py:202\u001b[0m, in \u001b[0;36mAlgebrasWithBasis.ElementMethods.__invert__\u001b[0;34m(self)\u001b[0m\n\u001b[1;32m    200\u001b[0m     \u001b[38;5;28;01mreturn\u001b[39;00m \u001b[38;5;28mself\u001b[39m\u001b[38;5;241m.\u001b[39mparent()\u001b[38;5;241m.\u001b[39mterm(one, \u001b[38;5;241m~\u001b[39mmcs[one])\n\u001b[1;32m    201\u001b[0m \u001b[38;5;28;01melse\u001b[39;00m:\n\u001b[0;32m--> 202\u001b[0m     \u001b[38;5;28;01mraise\u001b[39;00m \u001b[38;5;167;01mValueError\u001b[39;00m(\u001b[38;5;124m\"\u001b[39m\u001b[38;5;124mcannot invert self (= \u001b[39m\u001b[38;5;132;01m%s\u001b[39;00m\u001b[38;5;124m)\u001b[39m\u001b[38;5;124m\"\u001b[39m \u001b[38;5;241m%\u001b[39m \u001b[38;5;28mself\u001b[39m)\n",
      "\u001b[0;31mValueError\u001b[0m: cannot invert self (= b)"
     ]
    }
   ],
   "source": [
    "SGA_to_FGA_quotient(idems[0])"
   ]
  },
  {
   "cell_type": "code",
   "execution_count": 124,
   "id": "c95a9f90-3fa1-46fd-9453-9de1d8baaf92",
   "metadata": {},
   "outputs": [
    {
     "ename": "ValueError",
     "evalue": "cannot invert self (= a)",
     "output_type": "error",
     "traceback": [
      "\u001b[0;31m---------------------------------------------------------------------------\u001b[0m",
      "\u001b[0;31mValueError\u001b[0m                                Traceback (most recent call last)",
      "Cell \u001b[0;32mIn[124], line 1\u001b[0m\n\u001b[0;32m----> 1\u001b[0m \u001b[43mFGA\u001b[49m\u001b[38;5;241;43m.\u001b[39;49m\u001b[43mgen\u001b[49m\u001b[43m(\u001b[49m\u001b[38;5;241;43m0\u001b[39;49m\u001b[43m)\u001b[49m\u001b[38;5;241;43m*\u001b[39;49m\u001b[38;5;241;43m*\u001b[39;49m\u001b[38;5;241;43m-\u001b[39;49m\u001b[43mInteger\u001b[49m\u001b[43m(\u001b[49m\u001b[38;5;241;43m1\u001b[39;49m\u001b[43m)\u001b[49m\n",
      "File \u001b[0;32m/private/var/tmp/sage-10.3-current/local/var/lib/sage/venv-python3.11.1/lib/python3.11/site-packages/sage/structure/element.pyx:2052\u001b[0m, in \u001b[0;36msage.structure.element.Element.__pow__ (build/cythonized/sage/structure/element.c:22365)\u001b[0;34m()\u001b[0m\n\u001b[1;32m   2050\u001b[0m     return (<Element>left)._pow_(right)\n\u001b[1;32m   2051\u001b[0m if BOTH_ARE_ELEMENT(cl):\n\u001b[0;32m-> 2052\u001b[0m     return coercion_model.bin_op(left, right, pow)\n\u001b[1;32m   2053\u001b[0m \n\u001b[1;32m   2054\u001b[0m cdef long value\n",
      "File \u001b[0;32m/private/var/tmp/sage-10.3-current/local/var/lib/sage/venv-python3.11.1/lib/python3.11/site-packages/sage/structure/coerce.pyx:1226\u001b[0m, in \u001b[0;36msage.structure.coerce.CoercionModel.bin_op (build/cythonized/sage/structure/coerce.c:15860)\u001b[0;34m()\u001b[0m\n\u001b[1;32m   1224\u001b[0m         return (<Action>action)._act_(x, y)\n\u001b[1;32m   1225\u001b[0m     else:\n\u001b[0;32m-> 1226\u001b[0m         return (<Action>action)._act_(y, x)\n\u001b[1;32m   1227\u001b[0m \n\u001b[1;32m   1228\u001b[0m # Now coerce to a common parent and do the operation there\n",
      "File \u001b[0;32m/private/var/tmp/sage-10.3-current/local/var/lib/sage/venv-python3.11.1/lib/python3.11/site-packages/sage/structure/coerce_actions.pyx:906\u001b[0m, in \u001b[0;36msage.structure.coerce_actions.IntegerPowAction._act_ (build/cythonized/sage/structure/coerce_actions.c:15081)\u001b[0;34m()\u001b[0m\n\u001b[1;32m    904\u001b[0m integer_check_long(n, &value, &err)\n\u001b[1;32m    905\u001b[0m if not err:\n\u001b[0;32m--> 906\u001b[0m     return e._pow_long(value)\n\u001b[1;32m    907\u001b[0m return e._pow_int(n)\n\u001b[1;32m    908\u001b[0m \n",
      "File \u001b[0;32m/private/var/tmp/sage-10.3-current/local/var/lib/sage/venv-python3.11.1/lib/python3.11/site-packages/sage/structure/element.pyx:2129\u001b[0m, in \u001b[0;36msage.structure.element.Element._pow_long (build/cythonized/sage/structure/element.c:22935)\u001b[0;34m()\u001b[0m\n\u001b[1;32m   2127\u001b[0m Generic path for powering with a C long.\n\u001b[1;32m   2128\u001b[0m \"\"\"\n\u001b[0;32m-> 2129\u001b[0m return self._pow_int(n)\n\u001b[1;32m   2130\u001b[0m \n\u001b[1;32m   2131\u001b[0m \n",
      "File \u001b[0;32m/private/var/tmp/sage-10.3-current/local/var/lib/sage/venv-python3.11.1/lib/python3.11/site-packages/sage/structure/element.pyx:2123\u001b[0m, in \u001b[0;36msage.structure.element.Element._pow_int (build/cythonized/sage/structure/element.c:22822)\u001b[0;34m()\u001b[0m\n\u001b[1;32m   2121\u001b[0m         raise bin_op_exception('^', self, other)\n\u001b[1;32m   2122\u001b[0m     else:\n\u001b[0;32m-> 2123\u001b[0m         return python_op(other)\n\u001b[1;32m   2124\u001b[0m \n\u001b[1;32m   2125\u001b[0m cdef _pow_long(self, long n) noexcept:\n",
      "File \u001b[0;32m/private/var/tmp/sage-10.3-current/local/var/lib/sage/venv-python3.11.1/lib/python3.11/site-packages/sage/categories/monoids.py:306\u001b[0m, in \u001b[0;36mMonoids.ElementMethods._pow_int\u001b[0;34m(self, n)\u001b[0m\n\u001b[1;32m    292\u001b[0m \u001b[38;5;28;01mdef\u001b[39;00m \u001b[38;5;21m_pow_int\u001b[39m(\u001b[38;5;28mself\u001b[39m, n):\n\u001b[1;32m    293\u001b[0m \u001b[38;5;250m    \u001b[39m\u001b[38;5;124mr\u001b[39m\u001b[38;5;124;03m\"\"\"\u001b[39;00m\n\u001b[1;32m    294\u001b[0m \u001b[38;5;124;03m    Return ``self`` to the `n^{th}` power.\u001b[39;00m\n\u001b[1;32m    295\u001b[0m \n\u001b[0;32m   (...)\u001b[0m\n\u001b[1;32m    304\u001b[0m \u001b[38;5;124;03m        'aaaaa'\u001b[39;00m\n\u001b[1;32m    305\u001b[0m \u001b[38;5;124;03m    \"\"\"\u001b[39;00m\n\u001b[0;32m--> 306\u001b[0m     \u001b[38;5;28;01mreturn\u001b[39;00m \u001b[43mgeneric_power\u001b[49m\u001b[43m(\u001b[49m\u001b[38;5;28;43mself\u001b[39;49m\u001b[43m,\u001b[49m\u001b[43m \u001b[49m\u001b[43mn\u001b[49m\u001b[43m)\u001b[49m\n",
      "File \u001b[0;32m/private/var/tmp/sage-10.3-current/local/var/lib/sage/venv-python3.11.1/lib/python3.11/site-packages/sage/arith/power.pyx:23\u001b[0m, in \u001b[0;36msage.arith.power.generic_power (build/cythonized/sage/arith/power.c:6440)\u001b[0;34m()\u001b[0m\n\u001b[1;32m     21\u001b[0m \n\u001b[1;32m     22\u001b[0m \n\u001b[0;32m---> 23\u001b[0m cpdef generic_power(a, n) noexcept:\n\u001b[1;32m     24\u001b[0m     \"\"\"\n\u001b[1;32m     25\u001b[0m     Return `a^n`.\n",
      "File \u001b[0;32m/private/var/tmp/sage-10.3-current/local/var/lib/sage/venv-python3.11.1/lib/python3.11/site-packages/sage/arith/power.pyx:83\u001b[0m, in \u001b[0;36msage.arith.power.generic_power (build/cythonized/sage/arith/power.c:6225)\u001b[0;34m()\u001b[0m\n\u001b[1;32m     81\u001b[0m     raise NotImplementedError(\"non-integral exponents not supported\")\n\u001b[1;32m     82\u001b[0m if not err:\n\u001b[0;32m---> 83\u001b[0m     return generic_power_long(a, value)\n\u001b[1;32m     84\u001b[0m \n\u001b[1;32m     85\u001b[0m if n < 0:\n",
      "File \u001b[0;32m/private/var/tmp/sage-10.3-current/local/var/lib/sage/venv-python3.11.1/lib/python3.11/site-packages/sage/arith/power.pyx:101\u001b[0m, in \u001b[0;36msage.arith.power.generic_power_long (build/cythonized/sage/arith/power.c:6545)\u001b[0;34m()\u001b[0m\n\u001b[1;32m     99\u001b[0m if n < 0:\n\u001b[1;32m    100\u001b[0m     u = -u\n\u001b[0;32m--> 101\u001b[0m     a = invert(a)\n\u001b[1;32m    102\u001b[0m return generic_power_pos(a, u)\n\u001b[1;32m    103\u001b[0m \n",
      "File \u001b[0;32m/private/var/tmp/sage-10.3-current/local/var/lib/sage/venv-python3.11.1/lib/python3.11/site-packages/sage/arith/power.pxd:20\u001b[0m, in \u001b[0;36msage.arith.power.invert (build/cythonized/sage/arith/power.c:4260)\u001b[0;34m()\u001b[0m\n\u001b[1;32m     18\u001b[0m \"\"\"\n\u001b[1;32m     19\u001b[0m if isinstance(a, Element):\n\u001b[0;32m---> 20\u001b[0m     return ~a\n\u001b[1;32m     21\u001b[0m return PyNumber_TrueDivide(type(a)(1), a)\n\u001b[1;32m     22\u001b[0m \n",
      "File \u001b[0;32m/private/var/tmp/sage-10.3-current/local/var/lib/sage/venv-python3.11.1/lib/python3.11/site-packages/sage/categories/algebras_with_basis.py:202\u001b[0m, in \u001b[0;36mAlgebrasWithBasis.ElementMethods.__invert__\u001b[0;34m(self)\u001b[0m\n\u001b[1;32m    200\u001b[0m     \u001b[38;5;28;01mreturn\u001b[39;00m \u001b[38;5;28mself\u001b[39m\u001b[38;5;241m.\u001b[39mparent()\u001b[38;5;241m.\u001b[39mterm(one, \u001b[38;5;241m~\u001b[39mmcs[one])\n\u001b[1;32m    201\u001b[0m \u001b[38;5;28;01melse\u001b[39;00m:\n\u001b[0;32m--> 202\u001b[0m     \u001b[38;5;28;01mraise\u001b[39;00m \u001b[38;5;167;01mValueError\u001b[39;00m(\u001b[38;5;124m\"\u001b[39m\u001b[38;5;124mcannot invert self (= \u001b[39m\u001b[38;5;132;01m%s\u001b[39;00m\u001b[38;5;124m)\u001b[39m\u001b[38;5;124m\"\u001b[39m \u001b[38;5;241m%\u001b[39m \u001b[38;5;28mself\u001b[39m)\n",
      "\u001b[0;31mValueError\u001b[0m: cannot invert self (= a)"
     ]
    }
   ],
   "source": [
    "FGA.0^-1"
   ]
  },
  {
   "cell_type": "code",
   "execution_count": null,
   "id": "e35b9695-0fba-4cc2-ae0a-bba15950865f",
   "metadata": {},
   "outputs": [],
   "source": []
  }
 ],
 "metadata": {
  "kernelspec": {
   "display_name": "SageMath 10.3",
   "language": "sage",
   "name": "sagemath-10.3"
  },
  "language_info": {
   "codemirror_mode": {
    "name": "ipython",
    "version": 3
   },
   "file_extension": ".py",
   "mimetype": "text/x-python",
   "name": "python",
   "nbconvert_exporter": "python",
   "pygments_lexer": "ipython3",
   "version": "3.11.1"
  }
 },
 "nbformat": 4,
 "nbformat_minor": 5
}
